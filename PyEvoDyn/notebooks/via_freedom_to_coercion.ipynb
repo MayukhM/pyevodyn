{
 "metadata": {
  "name": "via_freedom_to_coercion"
 },
 "nbformat": 3,
 "nbformat_minor": 0,
 "worksheets": [
  {
   "cells": [
    {
     "cell_type": "heading",
     "level": 1,
     "metadata": {},
     "source": [
      "Using pyevodyn to study a game with custom payoff function*"
     ]
    },
    {
     "cell_type": "raw",
     "metadata": {},
     "source": [
      "* Work in progress"
     ]
    },
    {
     "cell_type": "code",
     "collapsed": false,
     "input": [
      "import pyevodyn.utils as utils\n",
      "import pyevodyn.numerical as num"
     ],
     "language": "python",
     "metadata": {},
     "outputs": [],
     "prompt_number": 10
    },
    {
     "cell_type": "markdown",
     "metadata": {},
     "source": [
      "This notebook analyzes the game in **\"Via freedom to coercion: The emergence of costly punishment\"** by Hauert, Traulsen, Brandt, Nowak and Sigmund (*Science*, 2007). "
     ]
    },
    {
     "cell_type": "markdown",
     "metadata": {},
     "source": [
      "We first define the payoff structure. For that we will first create two auxiliary functions that give the benefit and effective cost of cooperation given a population composition and other parameters of the game."
     ]
    },
    {
     "cell_type": "code",
     "collapsed": false,
     "input": [
      "def benefit_function(population_composition, r, c, sigma, beta, gamma, group_size, population_size):\n",
      "    #first how many are there for each strategy\n",
      "    [xc, xd,xl,xp] = population_composition\n",
      "    #if almost everyone is a loner there is no benefit\n",
      "    if  xl >=  population_size-1:\n",
      "        return sigma\n",
      "    part_1_a = r*c*(xc+xp)/(population_size-xl-1.0)\n",
      "    part_1_b = 1.0 - (population_size/(group_size*(population_size-xl)))\n",
      "    part_1 = part_1_a*part_1_b \n",
      "    part_2_a = r*c*(xc+xp)*(xl-group_size+1.0) \n",
      "    part_2_b = group_size*(population_size-xl-1.0)*(population_size-xl)\n",
      "    binomial = utils.binomial_coefficient(xl, group_size-1)/utils.binomial_coefficient(population_size-1, group_size-1)\n",
      "    part_2 =  binomial*(sigma+ (part_2_a/part_2_b))\n",
      "    return part_1 + part_2\n",
      "\n",
      "def contribution_cost(population_composition, r, c, sigma, beta, gamma, group_size, population_size):\n",
      "    [xc, xd,xl,xp] = population_composition\n",
      "    if  xl >=  population_size-1:\n",
      "        return 0.0\n",
      "    part_1  = 1.0 - (r/group_size)*((population_size-group_size)/(population_size-xl-1.0))\n",
      "    binomial = utils.binomial_coefficient(xl, group_size-1)/utils.binomial_coefficient(population_size-1, group_size-1)\n",
      "    part_2_a = (r/group_size)*((xl+1.0)/(population_size-xl-1.0))\n",
      "    part_2_b = (r*(population_size-xl-2.0)/(population_size-xl-1.0))-1\n",
      "    return part_1 + binomial*(part_2_a+part_2_b)"
     ],
     "language": "python",
     "metadata": {},
     "outputs": [],
     "prompt_number": 17
    },
    {
     "cell_type": "markdown",
     "metadata": {},
     "source": [
      "Now we are ready to define the payoff function. Our strategies are *C*, *D*, *L* and *P* (indexed: 0,1,2 and 3). The function needs to respect the signature **payoff_function(index, population_composition, **kwargs)**, where *population_composition* is a list that contains how many copies are there of each strategy. Consequently, *sum(population_composition)* equals the population size. Default values correspond to those reported in Figure 1 of Hauert et al."
     ]
    },
    {
     "cell_type": "code",
     "collapsed": false,
     "input": [
      "def payoff_function_CDLP(index, population_composition, r=3.0, c=1.0, sigma=1.0, beta=1, gamma=0.3, group_size=5.0):\n",
      "    [xc, xd,xl,xp] = population_composition\n",
      "    population_size = sum(population_composition)\n",
      "    benefit = benefit_function(population_composition, r, c, sigma, beta, gamma, group_size, population_size)\n",
      "    if index == 0:\n",
      "        #payoff for cooperators\n",
      "        return benefit - c*contribution_cost(population_composition, r, c, sigma, beta, gamma, group_size, population_size)\n",
      "    if index == 1:\n",
      "        #payoff for defectors\n",
      "        return benefit - (beta)*(group_size-1.0)*(xp/(population_size-1.0))\n",
      "    if index == 2:\n",
      "        #loner payoff\n",
      "        return sigma\n",
      "    if index == 3:\n",
      "        #altruistic punishers\n",
      "        return benefit - c*contribution_cost(population_composition, r, c, sigma, beta, gamma, group_size, population_size) - gamma*(group_size-1.0)*(xd/(population_size-1.0))\n",
      "    raise ValueError('You should never be here!')"
     ],
     "language": "python",
     "metadata": {},
     "outputs": [],
     "prompt_number": 32
    },
    {
     "cell_type": "markdown",
     "metadata": {},
     "source": [
      "We are ready to study evolutionary dynamics."
     ]
    },
    {
     "cell_type": "markdown",
     "metadata": {},
     "source": [
      "##Stochastic dynamics\n",
      "\n",
      "We will inspect the stationary distribution of a Moran Process with small mutations (i.e., monomorphic populations). Payoff-to-fitness mapping uses an exponential function.\n",
      "\n",
      "Let's see how the abudance changes as a function of the intensity of selection."
     ]
    },
    {
     "cell_type": "code",
     "collapsed": false,
     "input": [
      "#we set the fixed parameters, mutation probability, population size and the game\n",
      "u = 0.001\n",
      "N=30\n",
      "r=3.0\n",
      "c=1.0\n",
      "sigma=1.0\n",
      "beta=1\n",
      "gamma=0.3\n",
      "group_size=5.0\n",
      "u = 0.001\n",
      "payoff_function= payoff_function_CDLP\n",
      "#build the result for a range of intensity of selections\n",
      "intensity_vector= np.logspace(-4.5, 0.7, num=45) # we will use a logarithmic scale on the x axis\n",
      "c_list= []\n",
      "d_list= []\n",
      "l_list= []\n",
      "p_list= []\n",
      "for intensity_of_selection in intensity_vector:\n",
      "    markov_chain = num.monomorphous_transition_matrix(intensity_of_selection, mutation_probability=u, population_size=N, payoff_function=payoff_function_CDLP, number_of_strategies=4, \n",
      "mapping ='EXP',  r=r, c=c, sigma=sigma, beta=beta, gamma=gamma, group_size=group_size)\n",
      "    (cooperators,defectors,loners, punishers) = num.stationary_distribution(markov_chain)\n",
      "    c_list.append(cooperators)\n",
      "    d_list.append(defectors)\n",
      "    l_list.append(loners)\n",
      "    p_list.append(punishers)\n",
      "\n",
      "#Plotting stuff\n",
      "plt.rc('lines', linewidth=2.0)\n",
      "plt.figure(figsize=(10,4))\n",
      "plt.plot(intensity_vector, c_list, 'b-', label='Cooperators')\n",
      "plt.plot(intensity_vector, d_list, 'r-', label = 'Defectors')\n",
      "plt.plot(intensity_vector, l_list, 'y-', label='Loners')\n",
      "plt.plot(intensity_vector, p_list, 'g-', label='Punishers')\n",
      "plt.xscale(\"log\") #set scale to logarithmic\n",
      "plt.axis([10**-4.5, 10**0.7, 0, 1.0])\n",
      "plt.rc('lines', linewidth=2.0)\n",
      "plt.legend(loc='best')\n",
      "plt.title('Frequency in stationarity')\n",
      "plt.xlabel('Intensity of selection')\n",
      "plt.ylabel('Abundance')"
     ],
     "language": "python",
     "metadata": {},
     "outputs": [
      {
       "output_type": "pyout",
       "prompt_number": 53,
       "text": [
        "<matplotlib.text.Text at 0x80531b0>"
       ]
      },
      {
       "output_type": "display_data",
       "png": "[encoded data removed]"
      }
     ],
     "prompt_number": 53
    },
    {
     "cell_type": "markdown",
     "metadata": {},
     "source": [
      "Altruistic punishment wins when selection is positive!"
     ]
    }
   ],
   "metadata": {}
  }
 ]
}