{
 "metadata": {
  "name": "snippets"
 },
 "nbformat": 3,
 "nbformat_minor": 0,
 "worksheets": [
  {
   "cells": [
    {
     "cell_type": "code",
     "collapsed": false,
     "input": [
      "%reset\n",
      "import numpy as np\n",
      "import sys\n",
      "sys.path.insert(0,'../')\n",
      "import pyevodyn.games "
     ],
     "language": "python",
     "metadata": {},
     "outputs": [],
     "prompt_number": 1
    },
    {
     "cell_type": "heading",
     "level": 1,
     "metadata": {},
     "source": [
      "Testing if the population has converged..."
     ]
    },
    {
     "cell_type": "code",
     "collapsed": false,
     "input": [
      "def convergence_test(array, size):\n",
      " return np.any([i==size for i in array])"
     ],
     "language": "python",
     "metadata": {},
     "outputs": [],
     "prompt_number": 146
    },
    {
     "cell_type": "code",
     "collapsed": false,
     "input": [
      "a= [2,2,2]\n",
      "%timeit convergence_test(a,3)"
     ],
     "language": "python",
     "metadata": {},
     "outputs": [
      {
       "output_type": "stream",
       "stream": "stdout",
       "text": [
        "10000 loops, best of 3: 22.3 us per loop\n"
       ]
      }
     ],
     "prompt_number": 147
    },
    {
     "cell_type": "code",
     "collapsed": false,
     "input": [
      "def convergence_test_with_index(array, size):\n",
      "    if np.any([i==size for i in array]):\n",
      "        return array.argmax()\n",
      "    return None"
     ],
     "language": "python",
     "metadata": {},
     "outputs": [],
     "prompt_number": 148
    },
    {
     "cell_type": "code",
     "collapsed": false,
     "input": [
      "a = np.array([0,0,3])\n",
      "convergence_test_with_index(a,3)"
     ],
     "language": "python",
     "metadata": {},
     "outputs": [
      {
       "output_type": "pyout",
       "prompt_number": 149,
       "text": [
        "2"
       ]
      }
     ],
     "prompt_number": 149
    },
    {
     "cell_type": "heading",
     "level": 1,
     "metadata": {},
     "source": [
      "testing games module"
     ]
    },
    {
     "cell_type": "code",
     "collapsed": false,
     "input": [
      "import pyevodyn.games"
     ],
     "language": "python",
     "metadata": {},
     "outputs": [],
     "prompt_number": 150
    },
    {
     "cell_type": "code",
     "collapsed": false,
     "input": [
      "pyevodyn.games.prisoners_dilemma()"
     ],
     "language": "python",
     "metadata": {},
     "outputs": [
      {
       "output_type": "pyout",
       "prompt_number": 151,
       "text": [
        "array([[ 3.,  0.],\n",
        "       [ 4.,  1.]])"
       ]
      }
     ],
     "prompt_number": 151
    },
    {
     "cell_type": "code",
     "collapsed": false,
     "input": [
      "pyevodyn.games.prisoners_dilemma_equal_gains()"
     ],
     "language": "python",
     "metadata": {},
     "outputs": [
      {
       "output_type": "pyout",
       "prompt_number": 152,
       "text": [
        "array([[ 1, -1],\n",
        "       [ 2,  0]])"
       ]
      }
     ],
     "prompt_number": 152
    },
    {
     "cell_type": "code",
     "collapsed": false,
     "input": [
      "pyevodyn.games.rock_paper_sccisors()"
     ],
     "language": "python",
     "metadata": {},
     "outputs": [
      {
       "output_type": "pyout",
       "prompt_number": 153,
       "text": [
        "array([[ 0., -1.,  1.],\n",
        "       [ 1.,  0., -1.],\n",
        "       [-1.,  1.,  0.]])"
       ]
      }
     ],
     "prompt_number": 153
    },
    {
     "cell_type": "code",
     "collapsed": false,
     "input": [
      "pyevodyn.games.stag_hunt()"
     ],
     "language": "python",
     "metadata": {},
     "outputs": [
      {
       "output_type": "pyout",
       "prompt_number": 154,
       "text": [
        "array([[ 2.,  0.],\n",
        "       [ 1.,  1.]])"
       ]
      }
     ],
     "prompt_number": 154
    },
    {
     "cell_type": "code",
     "collapsed": false,
     "input": [
      "pyevodyn.games.allc_tft_alld()"
     ],
     "language": "python",
     "metadata": {},
     "outputs": [
      {
       "output_type": "pyout",
       "prompt_number": 155,
       "text": [
        "array([[ 3.  ,  3.  ,  0.  ],\n",
        "       [ 3.  ,  3.  ,  0.95],\n",
        "       [ 4.  ,  1.15,  1.  ]])"
       ]
      }
     ],
     "prompt_number": 155
    },
    {
     "cell_type": "code",
     "collapsed": false,
     "input": [
      "pyevodyn.games.allc_tft_alld_equal_gains()"
     ],
     "language": "python",
     "metadata": {},
     "outputs": [
      {
       "output_type": "pyout",
       "prompt_number": 6,
       "text": [
        "array([[ 1.  ,  1.  , -1.  ],\n",
        "       [ 1.  ,  1.  , -0.05],\n",
        "       [ 2.  ,  0.1 ,  0.  ]])"
       ]
      }
     ],
     "prompt_number": 6
    },
    {
     "cell_type": "code",
     "collapsed": false,
     "input": [
      "pyevodyn.games.neutral_game(2)"
     ],
     "language": "python",
     "metadata": {},
     "outputs": [
      {
       "output_type": "pyout",
       "prompt_number": 2,
       "text": [
        "array([[ 1.,  1.],\n",
        "       [ 1.,  1.]])"
       ]
      }
     ],
     "prompt_number": 2
    },
    {
     "cell_type": "code",
     "collapsed": false,
     "input": [],
     "language": "python",
     "metadata": {},
     "outputs": []
    }
   ],
   "metadata": {}
  }
 ]
}