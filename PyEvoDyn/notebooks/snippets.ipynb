{
 "metadata": {
  "name": "snippets"
 },
 "nbformat": 3,
 "nbformat_minor": 0,
 "worksheets": [
  {
   "cells": [
    {
     "cell_type": "code",
     "collapsed": false,
     "input": [
      "%reset\n",
      "import numpy as np\n",
      "import sys\n",
      "sys.path.insert(0,'../')\n",
      "import pyevodyn.utils as utils\n",
      "import pyevodyn.games as games\n",
      "import pyevodyn.numerical as numerical\n",
      "from pyevodyn.simulation import MoranProcess"
     ],
     "language": "python",
     "metadata": {},
     "outputs": [],
     "prompt_number": 1
    },
    {
     "cell_type": "heading",
     "level": 1,
     "metadata": {},
     "source": [
      "Testing if the population has converged..."
     ]
    },
    {
     "cell_type": "code",
     "collapsed": false,
     "input": [
      "def convergence_test(array, size):\n",
      " return np.any([i==size for i in array])"
     ],
     "language": "python",
     "metadata": {},
     "outputs": [],
     "prompt_number": 2
    },
    {
     "cell_type": "code",
     "collapsed": false,
     "input": [
      "a= [2,2,2]\n",
      "%timeit convergence_test(a,3)"
     ],
     "language": "python",
     "metadata": {},
     "outputs": [
      {
       "output_type": "stream",
       "stream": "stdout",
       "text": [
        "10000 loops, best of 3: 21.9 us per loop\n"
       ]
      }
     ],
     "prompt_number": 3
    },
    {
     "cell_type": "code",
     "collapsed": false,
     "input": [
      "def convergence_test_with_index(array, size):\n",
      "    if np.any([i==size for i in array]):\n",
      "        return array.argmax()\n",
      "    return None"
     ],
     "language": "python",
     "metadata": {},
     "outputs": [],
     "prompt_number": 4
    },
    {
     "cell_type": "code",
     "collapsed": false,
     "input": [
      "a = np.array([0,0,3])\n",
      "convergence_test_with_index(a,3)"
     ],
     "language": "python",
     "metadata": {},
     "outputs": [
      {
       "output_type": "pyout",
       "prompt_number": 5,
       "text": [
        "2"
       ]
      }
     ],
     "prompt_number": 5
    },
    {
     "cell_type": "heading",
     "level": 1,
     "metadata": {},
     "source": [
      "testing simulate discrete distribution in utils module"
     ]
    },
    {
     "cell_type": "code",
     "collapsed": false,
     "input": [
      "def weighted_values(probabilities):\n",
      "    values = xrange(0, len(probabilities))\n",
      "    bins = np.add.accumulate(probabilities)\n",
      "    return values[np.digitize([np.random.rand()], bins)]\n",
      "\n",
      "probabilities = np.array([0.5, 0.5, 0,0,0,0])\n",
      "%timeit weighted_values(probabilities)\n",
      "%timeit utils.simulate_discrete_distribution(probabilities)"
     ],
     "language": "python",
     "metadata": {},
     "outputs": [
      {
       "output_type": "stream",
       "stream": "stdout",
       "text": [
        "100000 loops, best of 3: 14.4 us per loop\n",
        "100000 loops, best of 3: 4.05 us per loop"
       ]
      },
      {
       "output_type": "stream",
       "stream": "stdout",
       "text": [
        "\n"
       ]
      }
     ],
     "prompt_number": 3
    },
    {
     "cell_type": "heading",
     "level": 1,
     "metadata": {},
     "source": [
      "Snippets"
     ]
    },
    {
     "cell_type": "code",
     "collapsed": false,
     "input": [
      "def funcioncita(population_array, population_size):\n",
      "    current_distribution = np.array(population_array, dtype=float)\n",
      "    current_distribution /= float(population_size)\n",
      "    return current_distribution"
     ],
     "language": "python",
     "metadata": {},
     "outputs": [],
     "prompt_number": 8
    },
    {
     "cell_type": "code",
     "collapsed": false,
     "input": [
      "%timeit funcioncita(np.array([1,2,3]), 6)"
     ],
     "language": "python",
     "metadata": {},
     "outputs": [
      {
       "output_type": "stream",
       "stream": "stdout",
       "text": [
        "100000 loops, best of 3: 17 us per loop\n"
       ]
      }
     ],
     "prompt_number": 15
    },
    {
     "cell_type": "code",
     "collapsed": false,
     "input": [
      "def funcioncita_fast(population_array, population_size):\n",
      "    current_distribution = population_array.copy()\n",
      "    current_distribution /= float(population_size)\n",
      "    return current_distribution"
     ],
     "language": "python",
     "metadata": {},
     "outputs": [],
     "prompt_number": 16
    },
    {
     "cell_type": "code",
     "collapsed": false,
     "input": [
      "%timeit funcioncita_fast(np.array([1,2,3]), 6)"
     ],
     "language": "python",
     "metadata": {},
     "outputs": [
      {
       "output_type": "stream",
       "stream": "stdout",
       "text": [
        "100000 loops, best of 3: 19.4 us per loop\n"
       ]
      }
     ],
     "prompt_number": 17
    },
    {
     "cell_type": "code",
     "collapsed": false,
     "input": [
      "def weighted_pick(weights):\n",
      " \"\"\"\n",
      "  Weighted random selection\n",
      "  returns n_picks random indexes.\n",
      "  the chance to pick the index i \n",
      "  is give by the weight weights[i].\n",
      " \"\"\"\n",
      " t = np.cumsum(weights)\n",
      " s = np.sum(weights)\n",
      " return np.searchsorted(t,np.random.rand(1)*s)[0]"
     ],
     "language": "python",
     "metadata": {},
     "outputs": [],
     "prompt_number": 20
    },
    {
     "cell_type": "code",
     "collapsed": false,
     "input": [
      "weighted_pick([0.1, 0.2, 0.5, 0.5, 1.0, 1.1, 2.0])"
     ],
     "language": "python",
     "metadata": {},
     "outputs": [
      {
       "output_type": "pyout",
       "prompt_number": 25,
       "text": [
        "2"
       ]
      }
     ],
     "prompt_number": 25
    },
    {
     "cell_type": "code",
     "collapsed": false,
     "input": [
      "a = [0.1, 0.2, 0.5, 0.5, 1.0, 1.1, 2.0]\n",
      "a/=np.sum(a)"
     ],
     "language": "python",
     "metadata": {},
     "outputs": [],
     "prompt_number": 26
    },
    {
     "cell_type": "code",
     "collapsed": false,
     "input": [
      "%timeit weighted_pick(a)"
     ],
     "language": "python",
     "metadata": {},
     "outputs": [
      {
       "output_type": "stream",
       "stream": "stdout",
       "text": [
        "100000 loops, best of 3: 16.8 us per loop\n"
       ]
      }
     ],
     "prompt_number": 29
    },
    {
     "cell_type": "code",
     "collapsed": false,
     "input": [
      "%timeit utils.simulate_discrete_distribution(a)"
     ],
     "language": "python",
     "metadata": {},
     "outputs": [
      {
       "output_type": "stream",
       "stream": "stdout",
       "text": [
        "100000 loops, best of 3: 10.5 us per loop\n"
       ]
      }
     ],
     "prompt_number": 30
    },
    {
     "cell_type": "code",
     "collapsed": false,
     "input": [
      "np.array"
     ],
     "language": "python",
     "metadata": {},
     "outputs": [
      {
       "output_type": "pyout",
       "prompt_number": 2,
       "text": [
        "<function numpy.core.multiarray.array>"
       ]
      }
     ],
     "prompt_number": 2
    },
    {
     "cell_type": "code",
     "collapsed": false,
     "input": [
      "    "
     ],
     "language": "python",
     "metadata": {},
     "outputs": []
    }
   ],
   "metadata": {}
  }
 ]
}