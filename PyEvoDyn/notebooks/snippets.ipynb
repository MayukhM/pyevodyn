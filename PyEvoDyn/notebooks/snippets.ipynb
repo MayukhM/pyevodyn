{
 "metadata": {
  "name": "snippets"
 },
 "nbformat": 3,
 "nbformat_minor": 0,
 "worksheets": [
  {
   "cells": [
    {
     "cell_type": "code",
     "collapsed": false,
     "input": [
      "%reset\n",
      "import numpy as np\n",
      "import sys\n",
      "sys.path.insert(0,'../')\n",
      "import pyevodyn.games "
     ],
     "language": "python",
     "metadata": {},
     "outputs": [],
     "prompt_number": 1
    },
    {
     "cell_type": "heading",
     "level": 1,
     "metadata": {},
     "source": [
      "Testing if the population has converged..."
     ]
    },
    {
     "cell_type": "code",
     "collapsed": false,
     "input": [
      "def convergence_test(array, size):\n",
      " return np.any([i==size for i in array])"
     ],
     "language": "python",
     "metadata": {},
     "outputs": [],
     "prompt_number": 2
    },
    {
     "cell_type": "code",
     "collapsed": false,
     "input": [
      "a= [2,2,2]\n",
      "%timeit convergence_test(a,3)"
     ],
     "language": "python",
     "metadata": {},
     "outputs": [
      {
       "output_type": "stream",
       "stream": "stdout",
       "text": [
        "10000 loops, best of 3: 21.6 us per loop\n"
       ]
      }
     ],
     "prompt_number": 3
    },
    {
     "cell_type": "code",
     "collapsed": false,
     "input": [
      "def convergence_test_with_index(array, size):\n",
      "    if np.any([i==size for i in array]):\n",
      "        return array.argmax()\n",
      "    return None"
     ],
     "language": "python",
     "metadata": {},
     "outputs": [],
     "prompt_number": 4
    },
    {
     "cell_type": "code",
     "collapsed": false,
     "input": [
      "a = np.array([0,0,3])\n",
      "convergence_test_with_index(a,3)"
     ],
     "language": "python",
     "metadata": {},
     "outputs": [
      {
       "output_type": "pyout",
       "prompt_number": 5,
       "text": [
        "2"
       ]
      }
     ],
     "prompt_number": 5
    },
    {
     "cell_type": "heading",
     "level": 1,
     "metadata": {},
     "source": [
      "testing simulate discrete distribution in utils module"
     ]
    },
    {
     "cell_type": "code",
     "collapsed": false,
     "input": [
      "import pyevodyn.utils as utils"
     ],
     "language": "python",
     "metadata": {},
     "outputs": [],
     "prompt_number": 6
    },
    {
     "cell_type": "code",
     "collapsed": false,
     "input": [
      "def weighted_values(probabilities):\n",
      "    values = xrange(0, len(probabilities))\n",
      "    bins = np.add.accumulate(probabilities)\n",
      "    return values[np.digitize([np.random.rand()], bins)]\n",
      "\n",
      "probabilities = np.array([0.5, 0.5, 0,0,0,0])\n",
      "%timeit weighted_values(probabilities)\n",
      "%timeit utils.simulate_discrete_distribution(probabilities)"
     ],
     "language": "python",
     "metadata": {},
     "outputs": [
      {
       "output_type": "stream",
       "stream": "stdout",
       "text": [
        "100000 loops, best of 3: 14.6 us per loop\n",
        "100000 loops, best of 3: 4.18 us per loop"
       ]
      },
      {
       "output_type": "stream",
       "stream": "stdout",
       "text": [
        "\n"
       ]
      }
     ],
     "prompt_number": 7
    },
    {
     "cell_type": "code",
     "collapsed": false,
     "input": [],
     "language": "python",
     "metadata": {},
     "outputs": []
    }
   ],
   "metadata": {}
  }
 ]
}