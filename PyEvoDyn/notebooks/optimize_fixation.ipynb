{
 "metadata": {
  "name": "optimize_fixation"
 },
 "nbformat": 3,
 "nbformat_minor": 0,
 "worksheets": [
  {
   "cells": [
    {
     "cell_type": "code",
     "collapsed": false,
     "input": [
      "import pyevodyn.utils as utils\n",
      "import pyevodyn.games as games\n",
      "import numpy as np\n",
      "import math"
     ],
     "language": "python",
     "metadata": {},
     "outputs": [],
     "prompt_number": 13
    },
    {
     "cell_type": "code",
     "collapsed": false,
     "input": [
      "def fixation_probability(mutant_index, resident_index, intensity_of_selection, population_size, payoff_function=None, game_matrix = None, number_of_strategies=None ,mapping='EXP', **kwargs):\n",
      "    suma = []\n",
      "    for k in xrange(1, population_size):\n",
      "        mult = []\n",
      "        for j in xrange(1, k + 1):\n",
      "            if (payoff_function is not None and game_matrix is None):\n",
      "                if (number_of_strategies==None):\n",
      "                    raise ValueError('When using a custom payoff_function you must specify number_of_strategies.')\n",
      "                strategies = np.zeros(number_of_strategies, dtype=int)\n",
      "                strategies[mutant_index] = j\n",
      "                strategies[resident_index] = population_size - j\n",
      "                payoffMutant = payoff_function(mutant_index, population_composition=strategies, **kwargs)\n",
      "                payoffResident = payoff_function(resident_index, population_composition=strategies, **kwargs)\n",
      "            elif (game_matrix is not None and payoff_function is None):\n",
      "                (payoffMutant,payoffResident)  = payoff_from_matrix(mutant_index,resident_index, game_matrix, j, population_size)\n",
      "            else:\n",
      "                raise ValueError('No valid payoff structure given, please specify a game_matrix or a payoff_function.')\n",
      "            if (mapping=='EXP'):\n",
      "                fitnessMutant = math.e ** (intensity_of_selection * payoffMutant)\n",
      "                fitnessResident = math.e ** (intensity_of_selection * payoffResident)\n",
      "            elif (mapping =='LIN'):\n",
      "                fitnessMutant =  1 - intensity_of_selection + intensity_of_selection*payoffMutant\n",
      "                fitnessResident = 1 - intensity_of_selection + intensity_of_selection*payoffResident\n",
      "            else:\n",
      "                raise ValueError('No valid mapping given. Use EXP or LIN for exponential and linear respectively.')\n",
      "            mult.append(fitnessResident/fitnessMutant) \n",
      "        suma.append(utils.kahan_product(mult))\n",
      "    if any(np.isinf(suma)):\n",
      "        return 0.0\n",
      "    try:\n",
      "        complex_expression = utils.kahan_sum(suma)    \n",
      "    except OverflowError:\n",
      "        return 0.0\n",
      "    if np.isinf(complex_expression):\n",
      "        return 0.0\n",
      "    return 1.0 / (1.0 + complex_expression)\n",
      "\n",
      "\n",
      "def payoff_from_matrix(focal_index, other_index, game_matrix, number_of_focal_individuals, population_size):\n",
      "    \"\"\"\n",
      "    Computes a vector of payoffs from a game_matrix. The first element is the payoff of the strategy with index focal_index, the second element is\n",
      "    the payoff of the strategy with index other_index. The game is given by game_matrix, and assumes a population cmposed of number_of_focal_individuals of strategy focal_index\n",
      "    and population_size - number_of_focal_individuals copies of strategy other_index\n",
      "    \n",
      "    \"\"\"\n",
      "    sub_matrix = np.array([[game_matrix[focal_index, focal_index],game_matrix[focal_index, other_index]],[game_matrix[other_index, focal_index],game_matrix[other_index, other_index]]])\n",
      "    return (1.0/(population_size-1.0))*(np.dot(sub_matrix,np.array([number_of_focal_individuals,population_size-number_of_focal_individuals]))-np.diagonal(sub_matrix))\n"
     ],
     "language": "python",
     "metadata": {},
     "outputs": [],
     "prompt_number": 14
    },
    {
     "cell_type": "code",
     "collapsed": false,
     "input": [
      "np.ones(2, dtype=np.float128)"
     ],
     "language": "python",
     "metadata": {},
     "outputs": [
      {
       "output_type": "pyout",
       "prompt_number": 21,
       "text": [
        "array([ 1.0,  1.0], dtype=float128)"
       ]
      }
     ],
     "prompt_number": 21
    },
    {
     "cell_type": "code",
     "collapsed": false,
     "input": [
      "def fixation_probability_fast(mutant_index, resident_index, intensity_of_selection, population_size, payoff_function=None, game_matrix = None, number_of_strategies=None ,mapping='EXP', **kwargs):\n",
      "    suma = np.ones(population_size, dtype=np.float128)\n",
      "    for k in xrange(1, population_size):\n",
      "        mult = np.ones(k, dtype=np.float128)\n",
      "        for j in xrange(1, k + 1):\n",
      "            if (payoff_function is not None and game_matrix is None):\n",
      "               if (number_of_strategies==None):\n",
      "                    raise ValueError('When using a custom payoff_function you must specify number_of_strategies.')\n",
      "               strategies = np.zeros(number_of_strategies, dtype=int)\n",
      "               strategies[mutant_index] = j\n",
      "               strategies[resident_index] = population_size - j\n",
      "               payoffMutant = payoff_function(mutant_index, population_composition=strategies, **kwargs)\n",
      "               payoffResident = payoff_function(resident_index, population_composition=strategies, **kwargs)\n",
      "            elif (game_matrix is not None and payoff_function is None):\n",
      "                (payoffMutant,payoffResident)  = payoff_from_matrix(mutant_index,resident_index, game_matrix, j, population_size)\n",
      "            else:\n",
      "                raise ValueError('No valid payoff structure given, please specify a game_matrix or a payoff_function.')\n",
      "            if (mapping=='EXP'):\n",
      "                fitnessMutant = math.e ** (intensity_of_selection * payoffMutant)\n",
      "                fitnessResident = math.e ** (intensity_of_selection * payoffResident)\n",
      "            elif (mapping =='LIN'):\n",
      "                fitnessMutant =  1 - intensity_of_selection + intensity_of_selection*payoffMutant\n",
      "                fitnessResident = 1 - intensity_of_selection + intensity_of_selection*payoffResident\n",
      "            else:\n",
      "                raise ValueError('No valid mapping given. Use EXP or LIN for exponential and linear respectively.')\n",
      "            mult[j-1]=(fitnessResident/fitnessMutant) \n",
      "        suma[k-1]=(np.prod(mult))\n",
      "    if np.any(np.isinf(suma)):\n",
      "        return 0.0\n",
      "    try:\n",
      "        complex_expression = np.sum(suma)    \n",
      "    except OverflowError:\n",
      "        return 0.0\n",
      "    if np.isinf(complex_expression):\n",
      "        return 0.0\n",
      "    return 1.0 / (1.0 + complex_expression)\n"
     ],
     "language": "python",
     "metadata": {},
     "outputs": [],
     "prompt_number": 49
    },
    {
     "cell_type": "code",
     "collapsed": false,
     "input": [
      "%%timeit \n",
      "a = fixation_probability(0,2, 1.0, 500, game_matrix=games.allc_tft_alld())"
     ],
     "language": "python",
     "metadata": {},
     "outputs": [
      {
       "output_type": "stream",
       "stream": "stdout",
       "text": [
        "1 loops, best of 3: 7.97 s per loop\n"
       ]
      }
     ],
     "prompt_number": 50
    },
    {
     "cell_type": "code",
     "collapsed": false,
     "input": [
      "print a"
     ],
     "language": "python",
     "metadata": {},
     "outputs": [
      {
       "output_type": "stream",
       "stream": "stdout",
       "text": [
        "8.46314233069e-15\n"
       ]
      }
     ],
     "prompt_number": 51
    },
    {
     "cell_type": "code",
     "collapsed": false,
     "input": [
      "%%timeit\n",
      "a = fixation_probability_fast(0,2, 1.0, 500, game_matrix=games.allc_tft_alld())"
     ],
     "language": "python",
     "metadata": {},
     "outputs": [
      {
       "output_type": "stream",
       "stream": "stdout",
       "text": [
        "1 loops, best of 3: 7.63 s per loop\n"
       ]
      }
     ],
     "prompt_number": 52
    },
    {
     "cell_type": "code",
     "collapsed": false,
     "input": [
      "print a"
     ],
     "language": "python",
     "metadata": {},
     "outputs": [
      {
       "output_type": "stream",
       "stream": "stdout",
       "text": [
        "8.46314233069e-15\n"
       ]
      }
     ],
     "prompt_number": 53
    },
    {
     "cell_type": "code",
     "collapsed": false,
     "input": [],
     "language": "python",
     "metadata": {},
     "outputs": []
    }
   ],
   "metadata": {}
  }
 ]
}