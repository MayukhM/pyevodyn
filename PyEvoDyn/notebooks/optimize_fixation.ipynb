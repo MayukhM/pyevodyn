{
 "metadata": {
  "name": "optimize_fixation"
 },
 "nbformat": 3,
 "nbformat_minor": 0,
 "worksheets": [
  {
   "cells": [
    {
     "cell_type": "code",
     "collapsed": false,
     "input": [
      "import pyevodyn.utils as utils\n",
      "import pyevodyn.games as games\n",
      "import numpy as np\n",
      "import math"
     ],
     "language": "python",
     "metadata": {},
     "outputs": [],
     "prompt_number": 13
    },
    {
     "cell_type": "code",
     "collapsed": false,
     "input": [
      "def fixation_probability(mutant_index, resident_index, intensity_of_selection, population_size, payoff_function=None, game_matrix = None, number_of_strategies=None ,mapping='EXP', **kwargs):\n",
      "    suma = []\n",
      "    for k in xrange(1, population_size):\n",
      "        mult = []\n",
      "        for j in xrange(1, k + 1):\n",
      "            if (payoff_function is not None and game_matrix is None):\n",
      "                if (number_of_strategies==None):\n",
      "                    raise ValueError('When using a custom payoff_function you must specify number_of_strategies.')\n",
      "                strategies = np.zeros(number_of_strategies, dtype=int)\n",
      "                strategies[mutant_index] = j\n",
      "                strategies[resident_index] = population_size - j\n",
      "                payoffMutant = payoff_function(mutant_index, population_composition=strategies, **kwargs)\n",
      "                payoffResident = payoff_function(resident_index, population_composition=strategies, **kwargs)\n",
      "            elif (game_matrix is not None and payoff_function is None):\n",
      "                (payoffMutant,payoffResident)  = payoff_from_matrix(mutant_index,resident_index, game_matrix, j, population_size)\n",
      "            else:\n",
      "                raise ValueError('No valid payoff structure given, please specify a game_matrix or a payoff_function.')\n",
      "            if (mapping=='EXP'):\n",
      "                fitnessMutant = math.e ** (intensity_of_selection * payoffMutant)\n",
      "                fitnessResident = math.e ** (intensity_of_selection * payoffResident)\n",
      "            elif (mapping =='LIN'):\n",
      "                fitnessMutant =  1 - intensity_of_selection + intensity_of_selection*payoffMutant\n",
      "                fitnessResident = 1 - intensity_of_selection + intensity_of_selection*payoffResident\n",
      "            else:\n",
      "                raise ValueError('No valid mapping given. Use EXP or LIN for exponential and linear respectively.')\n",
      "            mult.append(fitnessResident/fitnessMutant) \n",
      "        suma.append(utils.kahan_product(mult))\n",
      "    if any(np.isinf(suma)):\n",
      "        return 0.0\n",
      "    try:\n",
      "        complex_expression = utils.kahan_sum(suma)    \n",
      "    except OverflowError:\n",
      "        return 0.0\n",
      "    if np.isinf(complex_expression):\n",
      "        return 0.0\n",
      "    return 1.0 / (1.0 + complex_expression)\n",
      "\n",
      "\n",
      "def payoff_from_matrix(focal_index, other_index, game_matrix, number_of_focal_individuals, population_size):\n",
      "    \"\"\"\n",
      "    Computes a vector of payoffs from a game_matrix. The first element is the payoff of the strategy with index focal_index, the second element is\n",
      "    the payoff of the strategy with index other_index. The game is given by game_matrix, and assumes a population cmposed of number_of_focal_individuals of strategy focal_index\n",
      "    and population_size - number_of_focal_individuals copies of strategy other_index\n",
      "    \n",
      "    \"\"\"\n",
      "    sub_matrix = np.array([[game_matrix[focal_index, focal_index],game_matrix[focal_index, other_index]],[game_matrix[other_index, focal_index],game_matrix[other_index, other_index]]])\n",
      "    return (1.0/(population_size-1.0))*(np.dot(sub_matrix,np.array([number_of_focal_individuals,population_size-number_of_focal_individuals]))-np.diagonal(sub_matrix))\n"
     ],
     "language": "python",
     "metadata": {},
     "outputs": [],
     "prompt_number": 14
    },
    {
     "cell_type": "code",
     "collapsed": false,
     "input": [
      "np.ones(2, dtype=np.float128)"
     ],
     "language": "python",
     "metadata": {},
     "outputs": [
      {
       "output_type": "pyout",
       "prompt_number": 21,
       "text": [
        "array([ 1.0,  1.0], dtype=float128)"
       ]
      }
     ],
     "prompt_number": 21
    },
    {
     "cell_type": "code",
     "collapsed": false,
     "input": [
      "def fixation_probability_fast(mutant_index, resident_index, intensity_of_selection, population_size, payoff_function=None, game_matrix = None, number_of_strategies=None ,mapping='EXP', **kwargs):\n",
      "    suma = np.ones(population_size, dtype=np.float128)\n",
      "    for k in xrange(1, population_size):\n",
      "        mult = np.ones(k, dtype=np.float128)\n",
      "        for j in xrange(1, k + 1):\n",
      "            if (payoff_function is not None and game_matrix is None):\n",
      "               if (number_of_strategies==None):\n",
      "                    raise ValueError('When using a custom payoff_function you must specify number_of_strategies.')\n",
      "               strategies = np.zeros(number_of_strategies, dtype=int)\n",
      "               strategies[mutant_index] = j\n",
      "               strategies[resident_index] = population_size - j\n",
      "               payoffMutant = payoff_function(mutant_index, population_composition=strategies, **kwargs)\n",
      "               payoffResident = payoff_function(resident_index, population_composition=strategies, **kwargs)\n",
      "            elif (game_matrix is not None and payoff_function is None):\n",
      "                (payoffMutant,payoffResident)  = payoff_from_matrix_faster(mutant_index,resident_index, game_matrix, j, population_size)\n",
      "            else:\n",
      "                raise ValueError('No valid payoff structure given, please specify a game_matrix or a payoff_function.')\n",
      "            if (mapping=='EXP'):\n",
      "                fitnessMutant = math.e ** (intensity_of_selection * payoffMutant)\n",
      "                fitnessResident = math.e ** (intensity_of_selection * payoffResident)\n",
      "            elif (mapping =='LIN'):\n",
      "                fitnessMutant =  1 - intensity_of_selection + intensity_of_selection*payoffMutant\n",
      "                fitnessResident = 1 - intensity_of_selection + intensity_of_selection*payoffResident\n",
      "            else:\n",
      "                raise ValueError('No valid mapping given. Use EXP or LIN for exponential and linear respectively.')\n",
      "            mult[j-1]=(fitnessResident/fitnessMutant) \n",
      "        suma[k-1]=(np.prod(mult))\n",
      "    if np.any(np.isinf(suma)):\n",
      "        return 0.0\n",
      "    try:\n",
      "        complex_expression = np.sum(suma)    \n",
      "    except OverflowError:\n",
      "        return 0.0\n",
      "    if np.isinf(complex_expression):\n",
      "        return 0.0\n",
      "    return 1.0 / (1.0 + complex_expression)\n"
     ],
     "language": "python",
     "metadata": {},
     "outputs": [],
     "prompt_number": 90
    },
    {
     "cell_type": "code",
     "collapsed": false,
     "input": [
      "%%timeit \n",
      "a = fixation_probability(0,2, 1.0, 500, game_matrix=games.allc_tft_alld())"
     ],
     "language": "python",
     "metadata": {},
     "outputs": [
      {
       "output_type": "stream",
       "stream": "stdout",
       "text": [
        "1 loops, best of 3: 7.83 s per loop\n"
       ]
      }
     ],
     "prompt_number": 91
    },
    {
     "cell_type": "code",
     "collapsed": false,
     "input": [
      "print a"
     ],
     "language": "python",
     "metadata": {},
     "outputs": [
      {
       "output_type": "stream",
       "stream": "stdout",
       "text": [
        "8.46314233069e-15\n"
       ]
      }
     ],
     "prompt_number": 92
    },
    {
     "cell_type": "code",
     "collapsed": false,
     "input": [
      "%%timeit\n",
      "a = fixation_probability_fast(0,2, 1.0, 500, game_matrix=games.allc_tft_alld())"
     ],
     "language": "python",
     "metadata": {},
     "outputs": [
      {
       "output_type": "stream",
       "stream": "stdout",
       "text": [
        "1 loops, best of 3: 8.32 s per loop\n"
       ]
      }
     ],
     "prompt_number": 93
    },
    {
     "cell_type": "code",
     "collapsed": false,
     "input": [
      "print a"
     ],
     "language": "python",
     "metadata": {},
     "outputs": [
      {
       "output_type": "stream",
       "stream": "stdout",
       "text": [
        "8.46314233069e-15\n"
       ]
      }
     ],
     "prompt_number": 94
    },
    {
     "cell_type": "code",
     "collapsed": false,
     "input": [
      "matriz  = np.array(range(16)).reshape(4,4)"
     ],
     "language": "python",
     "metadata": {},
     "outputs": [],
     "prompt_number": 55
    },
    {
     "cell_type": "code",
     "collapsed": false,
     "input": [
      "matriz"
     ],
     "language": "python",
     "metadata": {},
     "outputs": [
      {
       "output_type": "pyout",
       "prompt_number": 56,
       "text": [
        "array([[ 0,  1,  2,  3],\n",
        "       [ 4,  5,  6,  7],\n",
        "       [ 8,  9, 10, 11],\n",
        "       [12, 13, 14, 15]])"
       ]
      }
     ],
     "prompt_number": 56
    },
    {
     "cell_type": "code",
     "collapsed": false,
     "input": [
      "matriz[0:2:1,0:2:1]"
     ],
     "language": "python",
     "metadata": {},
     "outputs": [
      {
       "output_type": "pyout",
       "prompt_number": 69,
       "text": [
        "array([[0, 1],\n",
        "       [4, 5]])"
       ]
      }
     ],
     "prompt_number": 69
    },
    {
     "cell_type": "code",
     "collapsed": false,
     "input": [
      "matriz[0:3:2,0:3:2]"
     ],
     "language": "python",
     "metadata": {},
     "outputs": [
      {
       "output_type": "pyout",
       "prompt_number": 66,
       "text": [
        "array([[ 0,  2],\n",
        "       [ 8, 10]])"
       ]
      }
     ],
     "prompt_number": 66
    },
    {
     "cell_type": "code",
     "collapsed": false,
     "input": [
      "matriz[0:4:3,0:4:3]"
     ],
     "language": "python",
     "metadata": {},
     "outputs": [
      {
       "output_type": "pyout",
       "prompt_number": 68,
       "text": [
        "array([[ 0,  3],\n",
        "       [12, 15]])"
       ]
      }
     ],
     "prompt_number": 68
    },
    {
     "cell_type": "code",
     "collapsed": false,
     "input": [
      "matriz[1::2,1::2]"
     ],
     "language": "python",
     "metadata": {},
     "outputs": [
      {
       "output_type": "pyout",
       "prompt_number": 80,
       "text": [
        "array([[ 5,  7],\n",
        "       [13, 15]])"
       ]
      }
     ],
     "prompt_number": 80
    },
    {
     "cell_type": "code",
     "collapsed": false,
     "input": [
      "matriz[[2,0],:][:,[2,0]]"
     ],
     "language": "python",
     "metadata": {},
     "outputs": [
      {
       "output_type": "pyout",
       "prompt_number": 84,
       "text": [
        "array([[10,  8],\n",
        "       [ 2,  0]])"
       ]
      }
     ],
     "prompt_number": 84
    },
    {
     "cell_type": "code",
     "collapsed": false,
     "input": [
      "def subarray(game_matrix, focal_index, other_index):\n",
      "    return np.array([[game_matrix[focal_index, focal_index],game_matrix[focal_index, other_index]],[game_matrix[other_index, focal_index],game_matrix[other_index, other_index]]])"
     ],
     "language": "python",
     "metadata": {},
     "outputs": [],
     "prompt_number": 87
    },
    {
     "cell_type": "code",
     "collapsed": false,
     "input": [
      "subarray(matriz, 2,0)"
     ],
     "language": "python",
     "metadata": {},
     "outputs": [
      {
       "output_type": "pyout",
       "prompt_number": 88,
       "text": [
        "array([[10,  8],\n",
        "       [ 2,  0]])"
       ]
      }
     ],
     "prompt_number": 88
    },
    {
     "cell_type": "code",
     "collapsed": false,
     "input": [
      "def payoff_from_matrix_faster(focal_index, other_index, game_matrix, number_of_focal_individuals, population_size):\n",
      "    \"\"\"\n",
      "    Computes a vector of payoffs from a game_matrix. The first element is the payoff of the strategy with index focal_index, the second element is\n",
      "    the payoff of the strategy with index other_index. The game is given by game_matrix, and assumes a population cmposed of number_of_focal_individuals of strategy focal_index\n",
      "    and population_size - number_of_focal_individuals copies of strategy other_index\n",
      "    \n",
      "    \"\"\"\n",
      "    sub_matrix = matriz[[focal_index,other_index],:][:,[focal_index,other_index]]\n",
      "    return (1.0/(population_size-1.0))*(np.dot(sub_matrix,np.array([number_of_focal_individuals,population_size-number_of_focal_individuals]))-np.diagonal(sub_matrix))"
     ],
     "language": "python",
     "metadata": {},
     "outputs": [],
     "prompt_number": 89
    },
    {
     "cell_type": "code",
     "collapsed": false,
     "input": [],
     "language": "python",
     "metadata": {},
     "outputs": []
    }
   ],
   "metadata": {}
  }
 ]
}